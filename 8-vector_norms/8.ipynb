{
 "cells": [
  {
   "cell_type": "markdown",
   "id": "b1801982",
   "metadata": {},
   "source": [
    "# Material\n",
    "1. Calc len or mag of vec\n",
    "2. Regularization method in ML\n",
    "3. Vec / Matrix (M) operations\n",
    "\n",
    "## 8.2 Vector Norm\n",
    "## 8.3 Vector L1 Norm\n",
    "## 8.4 Vector L2 Norm\n",
    "## 8.5 Vector Max Norm"
   ]
  },
  {
   "cell_type": "code",
   "execution_count": 1,
   "id": "8e782cc3",
   "metadata": {},
   "outputs": [],
   "source": [
    "import numpy as np"
   ]
  },
  {
   "cell_type": "markdown",
   "id": "c393da55",
   "metadata": {},
   "source": [
    "## 8.2 Vector Norm\n",
    "1. Len of vec is \n",
    "    1. Vec norm or vec mag\n",
    "    2. Always a (+) # except for a vec of all 0s\n",
    "    3. Dist from origin \n",
    "        - ie (0, 0, 0) as orign for a vec w/ 3 elments\n",
    "2. [No BS Guide to LA, 2017 | P112] \"The length of a vector is a nonnegative number that describes the extent of vector in space, and sometimes referred to as the vector's magnitude or the norm.\"\n",
    "3. L1 & L2 are often used : \n",
    "    1. when fitting ML algos as a regularization method meaning :\n",
    "        1. a method to keep the coefficients of the model small, & in turn, the model less complex\n",
    "4. [Norm order wiki](https://numpy.org/doc/stable/reference/generated/numpy.linalg.norm.html)\n",
    "    1. \"1\" : max(sum(abs(x), axis = 0)))"
   ]
  },
  {
   "cell_type": "markdown",
   "id": "318ef405",
   "metadata": {},
   "source": [
    "## 8.3 Vector L1 Norm\n",
    "1. Notation \n",
    "    1. L^1 ==> \"1\" is superscript\n",
    "    2. || v ||_1 ==> \"1\" is subscript\n",
    "    3. Also called the taxicab norm or Manhattan norm\n",
    "    4. L^1(v) = || v ||_1\n",
    "2. Calc as the sum of the absolute vector values (AVV)s\n",
    "    1. (AVV) of a scalar : | a |_1\n",
    "    2. || v ||1 =  | a_1 | + | a_2 | + | a_3 |"
   ]
  },
  {
   "cell_type": "code",
   "execution_count": 27,
   "id": "c5e1fb29",
   "metadata": {},
   "outputs": [
    {
     "name": "stdout",
     "output_type": "stream",
     "text": [
      "L1 :  6.0\n"
     ]
    }
   ],
   "source": [
    "a = np.array([1, 2, 3])\n",
    "\n",
    "# func w/ params (arr, order of norm)\n",
    "l1 = np.linalg.norm(a, 1)\n",
    "\n",
    "print(\"L1 : \", l1)"
   ]
  },
  {
   "cell_type": "markdown",
   "id": "a882f93f",
   "metadata": {},
   "source": [
    "## 8.4 Vector L2 Norm\n",
    "1. Notation \n",
    "    1. L^2 ==> \"2\" is superscript\n",
    "    2. || v ||_2 ==> \"2\" is subscript\n",
    "    3. Also called the Euclidean norm\n",
    "        - [EN from ML class](https://github.com/Brinkley97/1-knn/blob/main/my_code/test_files/test_utils_full.ipynb)*\n",
    "        **The func works but the files are properly configured\n",
    "    4. L^2(v) = || v ||_2\n",
    "2. Calc as the dist of the vec coord from origin of vec space\n",
    "    1. Returns a (+) dist value\n",
    "    2. || v ||_2 =  square root(a_1^2 + a_2^2 + a_3^2)"
   ]
  },
  {
   "cell_type": "code",
   "execution_count": 25,
   "id": "70014465",
   "metadata": {},
   "outputs": [
    {
     "name": "stdout",
     "output_type": "stream",
     "text": [
      "L2 :  3.7416573867739413\n",
      "L2 w/ out norm order '2':  3.7416573867739413\n"
     ]
    }
   ],
   "source": [
    "a = np.array([1, 2, 3])\n",
    "\n",
    "# func w/ params (arr, order of norm)\n",
    "l2 = np.linalg.norm(a, 2)\n",
    "\n",
    "print(\"L2 : \", l2)\n",
    "\n",
    "# another way of writing this is  w/ out the 2\n",
    "a = np.array([1, 2, 3])\n",
    "\n",
    "# func w/ params (arr, order of norm)\n",
    "l2_no2 = np.linalg.norm(a)\n",
    "\n",
    "print(\"L2 w/ out norm order '2': \", l2_no2)"
   ]
  },
  {
   "cell_type": "markdown",
   "id": "7f7ad2f9",
   "metadata": {},
   "source": [
    "## 8.5 Vector Max Norm\n",
    "1. Notation\n",
    "    1. L^inf ==> \"inf\" is superscript & infinity\n",
    "    2. || v ||_inf ==> \"inf\" is subscript\n",
    "    3. L^inf(v) = || v ||_inf\n",
    "2. Calc\n",
    "    1. || v ||_inf = max a_1, a_2, a_3\n",
    "    2. Returns the max value\n",
    "3. Also used as regularization in ML such as on a neural network weights, called max norm regularization"
   ]
  },
  {
   "cell_type": "code",
   "execution_count": 29,
   "id": "f6680f66",
   "metadata": {},
   "outputs": [
    {
     "name": "stdout",
     "output_type": "stream",
     "text": [
      "max_norm :  3.0\n"
     ]
    }
   ],
   "source": [
    "# more norm orders\n",
    "max_norm = np.linalg.norm(a, np.inf)\n",
    "print(\"max_norm : \", max_norm)"
   ]
  },
  {
   "cell_type": "code",
   "execution_count": null,
   "id": "37ce0ee1",
   "metadata": {},
   "outputs": [],
   "source": []
  }
 ],
 "metadata": {
  "kernelspec": {
   "display_name": "Python 3",
   "language": "python",
   "name": "python3"
  },
  "language_info": {
   "codemirror_mode": {
    "name": "ipython",
    "version": 3
   },
   "file_extension": ".py",
   "mimetype": "text/x-python",
   "name": "python",
   "nbconvert_exporter": "python",
   "pygments_lexer": "ipython3",
   "version": "3.7.5"
  }
 },
 "nbformat": 4,
 "nbformat_minor": 5
}
