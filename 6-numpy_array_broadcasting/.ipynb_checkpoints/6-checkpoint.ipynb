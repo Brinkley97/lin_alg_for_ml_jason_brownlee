{
 "cells": [
  {
   "cell_type": "markdown",
   "id": "9b44ce3b",
   "metadata": {},
   "source": [
    "# Material\n",
    "\n",
    "## 6.2 Limitation w/ Array Arithmetic\n",
    "\n",
    "## 6.3 Array Broadcasting\n",
    "\n",
    "## 6.4 Broadcasting in NumPy\n",
    "1. 6.4.1 Scalar and One-Dimensional Array\n",
    "2. 6.4.2 Scalar and Two-Dimensional Array\n",
    "3. 6.4.3 One-Dimensional and Two-Dimensional Arrays\n",
    "\n",
    "## 6.5 Limitations of Broadcasting"
   ]
  },
  {
   "cell_type": "code",
   "execution_count": null,
   "id": "dbc118a1",
   "metadata": {},
   "outputs": [],
   "source": []
  },
  {
   "cell_type": "markdown",
   "id": "d9a8c0f4",
   "metadata": {},
   "source": [
    "## 6.4 Broadcasting in NumPy\n",
    "\n",
    "### 6.4.1 Scalar and One-Dimensional Array\n",
    "### 6.4.2 Scalar and Two-Dimensional Array\n",
    "### 6.4.3 One-Dimensional and Two-Dimensional Arrays"
   ]
  }
 ],
 "metadata": {
  "kernelspec": {
   "display_name": "Python 3",
   "language": "python",
   "name": "python3"
  },
  "language_info": {
   "codemirror_mode": {
    "name": "ipython",
    "version": 3
   },
   "file_extension": ".py",
   "mimetype": "text/x-python",
   "name": "python",
   "nbconvert_exporter": "python",
   "pygments_lexer": "ipython3",
   "version": "3.7.5"
  }
 },
 "nbformat": 4,
 "nbformat_minor": 5
}
