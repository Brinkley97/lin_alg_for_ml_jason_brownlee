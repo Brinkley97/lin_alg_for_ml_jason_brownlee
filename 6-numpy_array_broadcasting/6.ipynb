{
 "cells": [
  {
   "cell_type": "markdown",
   "id": "68eee9e8",
   "metadata": {},
   "source": [
    "# Material\n",
    "- Arrs of same size can be +. -, etc\n",
    "- Arrs of diff sizes can! be +, -, etc\n",
    "    - To overcome this, \"duplicate\" the smaller arr to match the dimensionality of the larger arr - Broadcasting\n",
    "    - This reduces & simplifies code\n",
    "\n",
    "\n",
    "## 6.2 Limitation w/ Array Arithmetic\n",
    "\n",
    "## 6.3 Array Broadcasting\n",
    "- Developed for NumPy\n",
    "- Adopted in other numerical computational libraries such as : Theano, TensorFlow, & Octave\n",
    "- np does ! actually duplicate the smaller arr\n",
    "- Insead, np makes use of existing structures in memory that in effect achieve the same result\n",
    "    - Leads to both memory & computationally efficient\n",
    "\n",
    "## 6.4 Broadcasting in NumPy\n",
    "1. 6.4.1 Scalar and One-Dimensional Array\n",
    "2. 6.4.2 Scalar and Two-Dimensional Array\n",
    "3. 6.4.3 One-Dimensional and Two-Dimensional Arrays\n",
    "\n",
    "## 6.5 Limitations of Broadcasting"
   ]
  },
  {
   "cell_type": "code",
   "execution_count": 1,
   "id": "dcc9da09",
   "metadata": {},
   "outputs": [],
   "source": [
    "import numpy as np"
   ]
  },
  {
   "cell_type": "markdown",
   "id": "2d4cc019",
   "metadata": {},
   "source": [
    "## 6.2 Limitation w/ Array Arithmetic \n",
    "- (+) & (-) happens at each index"
   ]
  },
  {
   "cell_type": "code",
   "execution_count": 4,
   "id": "f52c60de",
   "metadata": {},
   "outputs": [
    {
     "name": "stdout",
     "output_type": "stream",
     "text": [
      "c :  [1, 2, 3, 1, 2, 3]\n",
      "d :  [2, 4, 6]\n"
     ]
    }
   ],
   "source": [
    "a = [1, 2, 3]\n",
    "b = [1, 2, 3]\n",
    "\n",
    "# limitation\n",
    "c = a + b \n",
    "print(\"c : \", c)\n",
    "\n",
    "d = [1 + 1, 2 + 2, 3 + 3]\n",
    "print(\"d : \", d)"
   ]
  },
  {
   "cell_type": "markdown",
   "id": "df20e4f2",
   "metadata": {},
   "source": [
    "## 6.4 Broadcasting in NumPy\n",
    "\n",
    "### 6.4.1 Scalar and One-Dimensional Array\n",
    "### 6.4.2 Scalar and Two-Dimensional Array\n",
    "### 6.4.3 One-Dimensional and Two-Dimensional Arrays"
   ]
  },
  {
   "cell_type": "code",
   "execution_count": null,
   "id": "4856eb73",
   "metadata": {},
   "outputs": [],
   "source": []
  }
 ],
 "metadata": {
  "kernelspec": {
   "display_name": "Python 3",
   "language": "python",
   "name": "python3"
  },
  "language_info": {
   "codemirror_mode": {
    "name": "ipython",
    "version": 3
   },
   "file_extension": ".py",
   "mimetype": "text/x-python",
   "name": "python",
   "nbconvert_exporter": "python",
   "pygments_lexer": "ipython3",
   "version": "3.7.5"
  }
 },
 "nbformat": 4,
 "nbformat_minor": 5
}
