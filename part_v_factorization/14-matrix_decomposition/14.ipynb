{
 "cells": [
  {
   "cell_type": "markdown",
   "id": "2df24667",
   "metadata": {},
   "source": [
    "# Material\n",
    "- \".\" (period) / \"dot\" = dot product\n",
    "\n",
    "## 14.2 What is a Matrix Decomposition\n",
    "- Decomp = Decomposition\n",
    "\n",
    "## 14.3 LU Decomposition\n",
    "## 14.4 QR Decomposition\n",
    "## 14.5 Cholesky Decomposition"
   ]
  },
  {
   "cell_type": "code",
   "execution_count": 1,
   "id": "9ea3d108",
   "metadata": {},
   "outputs": [],
   "source": [
    "import numpy as np\n",
    "import scipy as sp\n",
    "from scipy.linalg import lu"
   ]
  },
  {
   "cell_type": "markdown",
   "id": "af457ace",
   "metadata": {},
   "source": [
    "## 14.2 What is a Matrix Decomposition\n",
    "1. Reducing a Matrix into its constituent parts\n",
    "    1. Original : 10\n",
    "    2. Decomp : 2 * 5\n",
    "2. Also called Matrix factorization\n",
    "3. More methods than what's below. See [Wiki](https://en.wikipedia.org/wiki/Matrix_decomposition)"
   ]
  },
  {
   "cell_type": "markdown",
   "id": "b507be8e",
   "metadata": {},
   "source": [
    "## 14.3 LU Decomposition\n",
    "1. For square Matrices\n",
    "2. Decomp into L & U components\n",
    "3. Notation : A = L . U <==> A = LU\n",
    "    1. Decomp : A\n",
    "    2. Lower Tria Matrix : L\n",
    "    2. Upper Tria Matrix : U\n",
    "4. Can fail so to aid this use LUP\n",
    "    1. LUP : LU (as above)\n",
    "    2. P : decomp w/ partial pivoting; a Matrix; returns result to originial order after re-ordering the rows of the parent Matrix\n",
    "    3. A = L . U . P\n",
    "5. Other methods to a support LU Decomp\n",
    "6. Often used to calc/simplify sys of lin eqs sa :\n",
    "    1. Finding the coefficients in lin regression\n",
    "    2. Calc the determinant\n",
    "    3. Calc the inverse"
   ]
  },
  {
   "cell_type": "code",
   "execution_count": 8,
   "id": "4fae2cc8",
   "metadata": {},
   "outputs": [
    {
     "name": "stdout",
     "output_type": "stream",
     "text": [
      "D.shape :  (3, 3) \n",
      "D : \n",
      " [[1 2 3]\n",
      " [4 5 6]\n",
      " [7 8 9]]\n",
      "\n",
      "#### FACTOR - DECMOP ####\n",
      "\n",
      ">> P.shape :  (3, 3) \n",
      ">> P : \n",
      " [[0. 1. 0.]\n",
      " [0. 0. 1.]\n",
      " [1. 0. 0.]] \n",
      "\n",
      ">> L.shape :  (3, 3) \n",
      ">> L : \n",
      " [[1.         0.         0.        ]\n",
      " [0.14285714 1.         0.        ]\n",
      " [0.57142857 0.5        1.        ]] \n",
      "\n",
      ">> U.shape :  (3, 3) \n",
      ">> U : \n",
      " [[ 7.00000000e+00  8.00000000e+00  9.00000000e+00]\n",
      " [ 0.00000000e+00  8.57142857e-01  1.71428571e+00]\n",
      " [ 0.00000000e+00  0.00000000e+00 -1.58603289e-16]]\n",
      "\n",
      "#### RECONSTRUCT ####\n",
      "\n",
      ">> P_dot_L_dot_U.shape :  (3, 3) \n",
      ">> P_dot_L_dot_U : \n",
      " [[1. 2. 3.]\n",
      " [4. 5. 6.]\n",
      " [7. 8. 9.]]\n",
      "\n",
      ">> my_dot.shape :  (3, 3) \n",
      ">> my_dot : \n",
      " [[1. 2. 3.]\n",
      " [4. 5. 6.]\n",
      " [7. 8. 9.]]\n"
     ]
    }
   ],
   "source": [
    "# 3 x 3 square Matrix\n",
    "D = np.array([\n",
    "             [1, 2, 3],\n",
    "             [4, 5, 6],\n",
    "             [7, 8, 9]\n",
    "             ])\n",
    "print(\"D.shape : \", D.shape, \"\\nD : \\n\", D)\n",
    "\n",
    "print(\"\\n#### FACTOR - DECMOP ####\")\n",
    "\n",
    "P, L, U = sp.linalg.lu(D)\n",
    "print(\"\\n>> P.shape : \", P.shape, \"\\n>> P : \\n\", P, \n",
    "      \"\\n\\n>> L.shape : \", L.shape, \"\\n>> L : \\n\", L, \n",
    "     \"\\n\\n>> U.shape : \", U.shape, \"\\n>> U : \\n\", U\n",
    "     )\n",
    "\n",
    "print(\"\\n#### RECONSTRUCT ####\")\n",
    "P_dot_L_dot_U = P.dot(L).dot(U)\n",
    "print(\"\\n>> P_dot_L_dot_U.shape : \", P_dot_L_dot_U.shape, \"\\n>> P_dot_L_dot_U : \\n\", P_dot_L_dot_U)\n",
    "\n",
    "# another way to write J\n",
    "my_dot = np.dot(np.dot(P, L), U)\n",
    "print(\"\\n>> my_dot.shape : \", my_dot.shape, \"\\n>> my_dot : \\n\", my_dot)"
   ]
  },
  {
   "cell_type": "markdown",
   "id": "6011f9e8",
   "metadata": {},
   "source": [
    "## 14.4 QR Decomposition\n",
    "1. For e x a Matrices (! limited to square Matrices)\n",
    "2. Notation : A = Q . R <==> A = QR\n",
    "    1. Q : size e x e\n",
    "    2. R : size e x a (upper tria Matrix)\n",
    "3. Can fail\n",
    "4. Used to solve sys of lin eqs\n",
    "5. Returns Q & R Matrices w/ smaller or reduced dims\n",
    "    1. More economical/ efficient"
   ]
  },
  {
   "cell_type": "code",
   "execution_count": 9,
   "id": "34da0eab",
   "metadata": {},
   "outputs": [
    {
     "name": "stdout",
     "output_type": "stream",
     "text": [
      "D.shape :  (3, 2) \n",
      "D : \n",
      " [[1 2]\n",
      " [3 4]\n",
      " [5 6]]\n",
      "\n",
      "#### FACTOR - DECMOP ####\n",
      "\n",
      ">> Q.shape :  (3, 3) \n",
      ">> Q : \n",
      " [[-0.16903085  0.89708523  0.40824829]\n",
      " [-0.50709255  0.27602622 -0.81649658]\n",
      " [-0.84515425 -0.34503278  0.40824829]] \n",
      "\n",
      ">> R.shape :  (3, 2) \n",
      ">> R : \n",
      " [[-5.91607978 -7.43735744]\n",
      " [ 0.          0.82807867]\n",
      " [ 0.          0.        ]]\n",
      "\n",
      "#### RECONSTRUCT ####\n",
      "\n",
      ">> J.shape :  (3, 2) \n",
      ">> J : \n",
      " [[1. 2.]\n",
      " [3. 4.]\n",
      " [5. 6.]]\n"
     ]
    }
   ],
   "source": [
    "# 3 x 2 square Matrix\n",
    "D = np.array([\n",
    "             [1, 2],\n",
    "             [3, 4],\n",
    "             [5, 6]\n",
    "             ])\n",
    "print(\"D.shape : \", D.shape, \"\\nD : \\n\", D)\n",
    "\n",
    "print(\"\\n#### FACTOR - DECMOP ####\")\n",
    "\n",
    "# complete : ! required but used to return Q & R to expected sizes\n",
    "Q, R = np.linalg.qr(D, 'complete')\n",
    "print(\"\\n>> Q.shape : \", Q.shape, \"\\n>> Q : \\n\", Q, \n",
    "      \"\\n\\n>> R.shape : \", R.shape, \"\\n>> R : \\n\", R, \n",
    "     )\n",
    "\n",
    "print(\"\\n#### RECONSTRUCT ####\")\n",
    "J = np.dot(Q, R)\n",
    "print(\"\\n>> J.shape : \", J.shape, \"\\n>> J : \\n\", J)"
   ]
  },
  {
   "cell_type": "markdown",
   "id": "34cf9b45",
   "metadata": {},
   "source": [
    "## 14.5 Cholesky Decomposition\n",
    "- Cholesky : co-lesk-kee\n",
    "1. For square symmetric Matrices\n",
    "2. (+) definite Matrix : All entries > 0\n",
    "3. Notation : A = L . L^T <==> A = LL^T <==> A = U^T . U <==> A = U^TU\n",
    "    1. Decomp : Matrix A\n",
    "    2. Lower tria Matrix : L\n",
    "    3. Lower tria Matrix transpose : L^T\n",
    "    4. Upper tria Matrix transpose : U^T\n",
    "    5. Upper tria Matrix : U\n",
    "4. Used to solve\n",
    "    1. Lin least squares for lin regression\n",
    "    2. Simulation & optimization methods\n",
    "5. Nearly 2x efficient as the LU decomp when performing on symmetical Matrices\n",
    "6. Returns L "
   ]
  },
  {
   "cell_type": "code",
   "execution_count": null,
   "id": "e9221cd4",
   "metadata": {},
   "outputs": [],
   "source": [
    "# 3 x 3 square Matrix\n",
    "D = np.array([\n",
    "             [2, 1, 1],\n",
    "             [1, 2, 1],\n",
    "             [1, 1, 2]\n",
    "             ])\n",
    "print(\"D.shape : \", D.shape, \"\\nD : \\n\", D)\n",
    "\n",
    "print(\"\\n#### FACTOR - DECMOP ####\")\n",
    "\n",
    "L = np.linalg.cholesky(D)\n",
    "print(\"\\nL.shape : \", L.shape, \"\\nL : \\n\", L)\n",
    "\n",
    "L_T = np.transpose(L)\n",
    "print(\"\\nL_T.shape : \", L_T.shape, \"\\nL_T : \\n\", L_T)\n",
    "\n",
    "print(\"\\n#### RECONSTRUCT ####\")\n",
    "J = np.dot(L, L_T)\n",
    "print(\"J.shape : \", J.shape, \"\\nJ : \\n\", J)\n"
   ]
  },
  {
   "cell_type": "code",
   "execution_count": null,
   "id": "bb3ccb01",
   "metadata": {},
   "outputs": [],
   "source": []
  }
 ],
 "metadata": {
  "kernelspec": {
   "display_name": "Python 3",
   "language": "python",
   "name": "python3"
  },
  "language_info": {
   "codemirror_mode": {
    "name": "ipython",
    "version": 3
   },
   "file_extension": ".py",
   "mimetype": "text/x-python",
   "name": "python",
   "nbconvert_exporter": "python",
   "pygments_lexer": "ipython3",
   "version": "3.7.5"
  }
 },
 "nbformat": 4,
 "nbformat_minor": 5
}
