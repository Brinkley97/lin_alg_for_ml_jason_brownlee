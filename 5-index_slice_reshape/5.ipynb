{
 "cells": [
  {
   "cell_type": "markdown",
   "id": "4535f310",
   "metadata": {},
   "source": [
    "# Material \n",
    "- ML data is represented as arrays\n",
    "- Discover how to manipulate & access data in np arrays\n",
    "\n",
    "## 5.2 From List to Array\n",
    "\n",
    "## 5.3 Array Indexing\n",
    "\n",
    "## 5.4 Array Slicing\n",
    "\n",
    "## 5.5 Array Reshaping"
   ]
  },
  {
   "cell_type": "markdown",
   "id": "cd22d2db",
   "metadata": {},
   "source": [
    "############# Break #############"
   ]
  },
  {
   "cell_type": "code",
   "execution_count": 3,
   "id": "3bb632a2",
   "metadata": {},
   "outputs": [],
   "source": [
    "import numpy as np"
   ]
  },
  {
   "cell_type": "markdown",
   "id": "6e322b59",
   "metadata": {},
   "source": [
    "## 5.2 From List to Array\n",
    "- Assumes data is loaded or generated & represented using a py list\n",
    "\n",
    "### 5.2.1 One-Dimensional List to Array\n",
    "- Load & access data from a list\n",
    "\n",
    "### 5.2.2 Two-Dimensional List to Array\n",
    "- Table of data (ie table of students)\n",
    "- Rows : new observation (ie a new student)/ new list\n",
    "- Columns : new feature (ie id, name, program, etc)\n"
   ]
  },
  {
   "cell_type": "code",
   "execution_count": 23,
   "id": "f142d9dd",
   "metadata": {},
   "outputs": [
    {
     "name": "stdout",
     "output_type": "stream",
     "text": [
      "py_list :  [11, 22, 33, 44, 55] type :  <class 'list'>\n",
      "np_arr :  [11 22 33 44 55] type :  <class 'numpy.ndarray'>\n"
     ]
    }
   ],
   "source": [
    "# create 1-D list\n",
    "py_list = [11, 22, 33, 44, 55]\n",
    "print(\"py_list : \", py_list, \"type : \", type(py_list))\n",
    "\n",
    "# convert py list to np array\n",
    "np_arr = np.array(py_list)\n",
    "print(\"np_arr : \", np_arr, \"type : \", type(np_arr))"
   ]
  },
  {
   "cell_type": "code",
   "execution_count": 42,
   "id": "6da05b2e",
   "metadata": {},
   "outputs": [
    {
     "name": "stdout",
     "output_type": "stream",
     "text": [
      "py_list_2d :  [[11, 22, 33, 44, 55], [66, 77, 88, 99, 0]] shape/ len :  2\n",
      "\n",
      "np_arr_2d :  [[11 22 33 44 55]\n",
      " [66 77 88 99  0]] shape :  (2, 5)\n"
     ]
    }
   ],
   "source": [
    "# create 2-D list\n",
    "py_list_2d = [[11, 22, 33, 44, 55], [66, 77, 88, 99, 0]]\n",
    "print(\"py_list_2d : \", py_list_2d, \"shape/ len : \", len(py_list_2d))\n",
    "\n",
    "# convert py list of lists to np array\n",
    "np_arr_2d = np.array(py_list_2d)\n",
    "print(\"\\nnp_arr_2d : \", np_arr_2d, \"shape : \", np_arr_2d.shape)"
   ]
  },
  {
   "cell_type": "code",
   "execution_count": 43,
   "id": "55c43e76",
   "metadata": {},
   "outputs": [
    {
     "name": "stdout",
     "output_type": "stream",
     "text": [
      "py_list_2d :  [[11, 22], [33, 44], [55, 66]] shape/ len :  3\n",
      "\n",
      "np_arr_book :  [[11 22]\n",
      " [33 44]\n",
      " [55 66]] shape :  (3, 2)\n"
     ]
    }
   ],
   "source": [
    "# create 2-D list\n",
    "py_list_2d = [[11, 22], [33, 44], [55, 66]]\n",
    "print(\"py_list_2d : \", py_list_2d, \"shape/ len : \", len(py_list_2d))\n",
    "\n",
    "# convert py list of lists to np array\n",
    "np_arr_book = np.array(py_list_2d)\n",
    "print(\"\\nnp_arr_book : \", np_arr_book, \"shape : \", np_arr_book.shape)"
   ]
  },
  {
   "cell_type": "markdown",
   "id": "5a3f1b51",
   "metadata": {},
   "source": [
    "## 5.3 Array Indexing\n",
    "\n",
    "### 5.3.1 One-Dimensional Indexing\n",
    "- Similar to other programming langs like Java, C#, & C++\n",
    "- Use bracket operator [insert index starting at 0]\n",
    "\n",
    "### 5.3.2 Two-Dimensional Indexing\n",
    "- Use bracket operator [insert index starting at 0, insert index starting at 0]"
   ]
  },
  {
   "cell_type": "code",
   "execution_count": 52,
   "id": "2cd0294a",
   "metadata": {},
   "outputs": [
    {
     "name": "stdout",
     "output_type": "stream",
     "text": [
      "first_element :  11\n",
      "\n",
      "second_element :  22\n",
      "\n",
      "last_element :  55\n",
      "\n",
      "second_to_last_element :  44\n"
     ]
    }
   ],
   "source": [
    "# index np_arr\n",
    "first_element = np_arr[0]\n",
    "print(\"first_element : \", first_element)\n",
    "second_element = np_arr[1]\n",
    "print(\"\\nsecond_element : \", second_element)\n",
    "\n",
    "# error if index too large\n",
    "# no_element = np_arr[10]\n",
    "# print(\"no_element : \", no_element)\n",
    "\n",
    "last_element = np_arr[-1]\n",
    "print(\"\\nlast_element : \", last_element)\n",
    "second_to_last_element = np_arr[-2]\n",
    "print(\"\\nsecond_to_last_element : \", second_to_last_element)"
   ]
  },
  {
   "cell_type": "code",
   "execution_count": 55,
   "id": "2d7a8887",
   "metadata": {},
   "outputs": [
    {
     "name": "stdout",
     "output_type": "stream",
     "text": [
      "[11 22 33 44 55]\n",
      "11\n",
      "44\n",
      "55\n",
      "\n",
      " 66\n",
      "77\n",
      "88\n",
      "99\n",
      "0\n"
     ]
    }
   ],
   "source": [
    "# only 2 rows so [0] or [1]; [2] or more will be out of range\n",
    "# only 5 columns so [0] - [4]; [5] or more will be out of range\n",
    "\n",
    "# first row [0] alone\n",
    "print(np_arr_2d[0])\n",
    "print(np_arr_2d[0, 0])\n",
    "print(np_arr_2d[0, 3])\n",
    "print(np_arr_2d[0, 4])\n",
    "\n",
    "# second row [1]\n",
    "print(\"\\n\", np_arr_2d[1, 0])\n",
    "print(np_arr_2d[1, 1])\n",
    "print(np_arr_2d[1, 2])\n",
    "print(np_arr_2d[1, 3])\n",
    "print(np_arr_2d[1, 4])"
   ]
  },
  {
   "cell_type": "code",
   "execution_count": 57,
   "id": "915280f9",
   "metadata": {},
   "outputs": [
    {
     "name": "stdout",
     "output_type": "stream",
     "text": [
      "[11 22]\n",
      "11\n",
      "22\n",
      "33\n"
     ]
    }
   ],
   "source": [
    "# only 2 elements across so [0] or [1]; [2] or more will be out of range\n",
    "\n",
    "# first row [0] alone\n",
    "print(np_arr_book[0])\n",
    "print(np_arr_book[0, 0])\n",
    "print(np_arr_book[0, 1])\n",
    "\n",
    "# second row [1]\n",
    "print(np_arr_book[1, 0])"
   ]
  },
  {
   "cell_type": "markdown",
   "id": "b84b1393",
   "metadata": {},
   "source": [
    "## 5.4 Array Slicing\n",
    "- A subsequence can be indexed & retrieved\n",
    "- Used when specifying input & output variables\n",
    "- Also splitting training rows from testing rows\n",
    "- Use colon operator : w/ from & to index before & after the column respectively\n",
    "\n",
    "### 5.4.1 One-Dimensional Slicing\n",
    "- Using np_arr above\n",
    "\n",
    "### 5.4.2 Two-Dimensional Slicing\n",
    "- Using np_arr_2d & np_arr_book above\n",
    "- Common to split data : input (X) & output (y) # notice casing"
   ]
  },
  {
   "cell_type": "code",
   "execution_count": 62,
   "id": "941eda0d",
   "metadata": {},
   "outputs": [
    {
     "name": "stdout",
     "output_type": "stream",
     "text": [
      "[11 22 33 44 55]\n",
      "[11]\n",
      "[44 55]\n",
      "44\n"
     ]
    }
   ],
   "source": [
    "# access all data w/ : alone\n",
    "print(np_arr[:])\n",
    "\n",
    "# first element - we start at the beginning w/ 0 & go up to but not including the element indexed at 1\n",
    "print(np_arr[0:1])\n",
    "\n",
    "# slice last two elements; notice diff w/ -2: & -2 w/ out :\n",
    "print(np_arr[-2:])\n",
    "print(np_arr[-2])\n"
   ]
  },
  {
   "cell_type": "code",
   "execution_count": 87,
   "id": "2ec10cd0",
   "metadata": {},
   "outputs": [
    {
     "name": "stdout",
     "output_type": "stream",
     "text": [
      "[[11 22 33 44 55]\n",
      " [66 77 88 99  0]] \n",
      "\n",
      "first row only :  [[11 22 33 44 55]] \n",
      "\n",
      "np_arr_2d - second row only :  [[66 77 88 99  0]] \n",
      "\n",
      "new_arr :  [110 111 112 113 114] \n",
      "\n",
      "stack_arr :  [[ 11  22  33  44  55]\n",
      " [ 66  77  88  99   0]\n",
      " [110 111 112 113 114]] shape :  (3, 5) \n",
      "\n",
      "don't include the first row :  [[ 66  77  88  99   0]\n",
      " [110 111 112 113 114]] \n",
      "\n",
      "stack_arr - second row only :  [[66 77 88 99  0]] \n",
      "\n",
      "stack_arr - first & last row :  [[ 11  22  33  44  55]\n",
      " [110 111 112 113 114]]\n"
     ]
    }
   ],
   "source": [
    "# access all data w/ : alone\n",
    "print(np_arr_2d[ : ], \"\\n\")\n",
    "\n",
    "# first row only\n",
    "print(\"first row only : \", np_arr_2d[0 : 1], \"\\n\")\n",
    "\n",
    "# second row only - start at index 1; leave after : (or to) part empty bc it's the end\n",
    "print(\"np_arr_2d - second row only : \", np_arr_2d[1 : ], \"\\n\")\n",
    "\n",
    "###### above only w/ 2 rows; below w/ 3 rows; adding 3rd row by calling vstack func [see Ch4]\n",
    "\n",
    "# create new array\n",
    "new_arr = np.array([110, 111, 112, 113, 114])\n",
    "print(\"new_arr : \", new_arr, \"\\n\")\n",
    "\n",
    "# call vstack func for new array & np_arr_2d\n",
    "stack_arr = np.vstack((np_arr_2d, new_arr))\n",
    "print(\"stack_arr : \", stack_arr, \"shape : \", stack_arr.shape, \"\\n\")\n",
    "\n",
    "# not the first row\n",
    "print(\"don't include the first row : \", stack_arr[1 : ], \"\\n\")\n",
    "\n",
    "# second row only - start at index 1; leave after : (or to) part empty bc it's the end\n",
    "print(\"stack_arr - second row only : \", stack_arr[1 : 2], \"\\n\")\n",
    "\n",
    "# first & last row\n",
    "print(\"stack_arr - first & last row : \", stack_arr[0 : 3 : 2])"
   ]
  },
  {
   "cell_type": "code",
   "execution_count": 111,
   "id": "a425c6d9",
   "metadata": {},
   "outputs": [
    {
     "name": "stdout",
     "output_type": "stream",
     "text": [
      "X :  [[11 22]\n",
      " [44 55]\n",
      " [77 88]] \n",
      "also [[11 22]\n",
      " [44 55]\n",
      " [77 88]] \n",
      "\n",
      "y :  [33 66 99] \n",
      "also [[33]\n",
      " [66]\n",
      " [99]] \n",
      "\n",
      "first column only :  [[11]\n",
      " [44]\n",
      " [77]] \n",
      "also [[11]\n",
      " [44]\n",
      " [77]]\n"
     ]
    }
   ],
   "source": [
    "#### notice the shape \n",
    "\n",
    "# create 3 column 2-D dataset\n",
    "data = np.array([\n",
    "                [11, 22, 33],\n",
    "                [44, 55, 66],\n",
    "                [77, 88, 99]\n",
    "                ])\n",
    "\n",
    "# X - get every row of first two columns\n",
    "X = data[:, : -1]\n",
    "print(\"X : \", X, \"\\nalso\", data[:, : 2], \"\\n\")\n",
    "\n",
    "# y - get every row of last column\n",
    "y = data[:, -1]\n",
    "print(\"y : \", y, \"\\nalso\", data[:, 2: 3], \"\\n\")\n",
    "\n",
    "print(\"first column only : \", data[:, : -2], \"\\nalso\", data[:, : 1])"
   ]
  },
  {
   "cell_type": "code",
   "execution_count": 129,
   "id": "80ed0781",
   "metadata": {},
   "outputs": [
    {
     "name": "stdout",
     "output_type": "stream",
     "text": [
      "train first row only:  [[11 22 33]] \n",
      "test :  [[44 55 66]\n",
      " [77 88 99]] \n",
      "\n",
      "train first two rows:  [[11 22 33]\n",
      " [44 55 66]] \n",
      "test :  [[77 88 99]] \n",
      "\n",
      "train first & last rows:  [[11 22 33]\n",
      " [77 88 99]] \n",
      "test second row :  [[44 55 66]] \n",
      "\n"
     ]
    }
   ],
   "source": [
    "split = 1\n",
    "train, test = data[: split, :], data[split :, :]\n",
    "print(\"train first row only: \", train, \"\\ntest : \", test, \"\\n\")\n",
    "\n",
    "split = 2\n",
    "train, test = data[: split, :], data[split :, :]\n",
    "print(\"train first two rows: \", train, \"\\ntest : \", test, \"\\n\")\n",
    "\n",
    "split = 3\n",
    "train, test = data[: split : 2], data[split - 2 : 2 :]\n",
    "print(\"train first & last rows: \", train, \"\\ntest second row : \", test, \"\\n\")"
   ]
  },
  {
   "cell_type": "markdown",
   "id": "774e1320",
   "metadata": {},
   "source": [
    "## 5.5 Array Reshaping\n",
    "\n",
    "### 5.5.1 Data Shape\n",
    "\n",
    "### 5.5.2 Reshape 1D to 2D Array\n",
    "- Use reshape() func\n",
    "\n",
    "### 5.5.3 Reshape 2D to 3D Array\n",
    "- Reshape from a 3 x 2 to a 3 rows, 2 in each column, 1 column"
   ]
  },
  {
   "cell_type": "code",
   "execution_count": 149,
   "id": "59f829c5",
   "metadata": {},
   "outputs": [
    {
     "name": "stdout",
     "output_type": "stream",
     "text": [
      "np_arr :  [11 22 33 44 55] \n",
      "np_arr.shape :  (5,) \n",
      "row :  5 \n",
      "\n",
      "np_arr_2d.shape :  (2, 5) \n",
      "row :  2 \n",
      "col :  5 \n",
      "\n",
      "data.shape :  (3, 3) \n",
      "row :  3 \n",
      "col :  3\n"
     ]
    }
   ],
   "source": [
    "print(\"np_arr : \", np_arr, \"\\nnp_arr.shape : \", np_arr.shape, \"\\nrow : \", np_arr.shape[0], \"\\n\")\n",
    "\n",
    "print(\"np_arr_2d.shape : \", np_arr_2d.shape, \"\\nrow : \", np_arr_2d.shape[0], \"\\ncol : \", np_arr_2d.shape[1], \"\\n\")\n",
    "\n",
    "print(\"data.shape : \", data.shape, \"\\nrow : \", data.shape[0], \"\\ncol : \", data.shape[1])"
   ]
  },
  {
   "cell_type": "code",
   "execution_count": 152,
   "id": "7dcd7ce2",
   "metadata": {},
   "outputs": [
    {
     "name": "stdout",
     "output_type": "stream",
     "text": [
      "reshape_np_arr :  [[11 22 33 44 55]] shape :  (1, 5)\n",
      "reshape_np_arr :  [[11]\n",
      " [22]\n",
      " [33]\n",
      " [44]\n",
      " [55]] shape :  (5, 1)\n"
     ]
    }
   ],
   "source": [
    "# reshape np_arr\n",
    "reshape_np_arr = np_arr.reshape(1, np_arr.shape[0])\n",
    "print(\"reshape_np_arr : \", reshape_np_arr, \"shape : \", reshape_np_arr.shape)\n",
    "\n",
    "reshape_np_arr = np_arr.reshape(np_arr.shape[0], 1)\n",
    "print(\"reshape_np_arr : \", reshape_np_arr, \"shape : \", reshape_np_arr.shape)"
   ]
  },
  {
   "cell_type": "code",
   "execution_count": 158,
   "id": "8bc488dc",
   "metadata": {},
   "outputs": [
    {
     "name": "stdout",
     "output_type": "stream",
     "text": [
      "np_arr_book :  [[11 22]\n",
      " [33 44]\n",
      " [55 66]] \n",
      "np_arr_book shape :  (3, 2)\n",
      "np_arr_book[0] :  3 np_arr_book[1],  2 \n",
      "\n",
      "reshape_np_arr_book :  [[[11]\n",
      "  [22]]\n",
      "\n",
      " [[33]\n",
      "  [44]]\n",
      "\n",
      " [[55]\n",
      "  [66]]] reshape_np_arr_book shape :  (3, 2, 1)\n"
     ]
    }
   ],
   "source": [
    "print(\"np_arr_book : \", np_arr_book, \"\\nnp_arr_book shape : \", np_arr_book.shape)\n",
    "print(\"np_arr_book[0] : \", np_arr_book.shape[0], \"np_arr_book[1], \", np_arr_book.shape[1], \"\\n\")\n",
    "\n",
    "reshape_np_arr_book = np_arr_book.reshape((np_arr_book.shape[0], np_arr_book.shape[1], 1))\n",
    "print(\"reshape_np_arr_book : \", reshape_np_arr_book, \"\\nreshape_np_arr_book shape : \", reshape_np_arr_book.shape)"
   ]
  },
  {
   "cell_type": "code",
   "execution_count": null,
   "id": "e3d027e7",
   "metadata": {},
   "outputs": [],
   "source": []
  }
 ],
 "metadata": {
  "kernelspec": {
   "display_name": "Python 3",
   "language": "python",
   "name": "python3"
  },
  "language_info": {
   "codemirror_mode": {
    "name": "ipython",
    "version": 3
   },
   "file_extension": ".py",
   "mimetype": "text/x-python",
   "name": "python",
   "nbconvert_exporter": "python",
   "pygments_lexer": "ipython3",
   "version": "3.7.5"
  }
 },
 "nbformat": 4,
 "nbformat_minor": 5
}
