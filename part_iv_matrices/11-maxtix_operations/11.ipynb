{
 "cells": [
  {
   "cell_type": "markdown",
   "id": "6b2a535c",
   "metadata": {},
   "source": [
    "# Materials\n",
    "\n",
    "## 11.2 Transpose\n",
    "## 11.3 Inverse\n",
    "## 11.4 Trace\n",
    "## 11.5 Determinant \n",
    "## 11.6 Rank"
   ]
  },
  {
   "cell_type": "code",
   "execution_count": 1,
   "id": "ba119ade",
   "metadata": {},
   "outputs": [],
   "source": [
    "import numpy as np"
   ]
  },
  {
   "cell_type": "markdown",
   "id": "5b5c17a4",
   "metadata": {},
   "source": [
    "## 11.2 Transpose\n"
   ]
  },
  {
   "cell_type": "code",
   "execution_count": 2,
   "id": "ce799e90",
   "metadata": {},
   "outputs": [
    {
     "name": "stdout",
     "output_type": "stream",
     "text": [
      "D : \n",
      " [[1 2]\n",
      " [3 4]\n",
      " [5 6]]\n",
      "D.T : \n",
      " [[1 3 5]\n",
      " [2 4 6]]\n",
      "np.transpose(D) : \n",
      " [[1 3 5]\n",
      " [2 4 6]]\n"
     ]
    }
   ],
   "source": [
    "# 3 x 2\n",
    "D = np.array([\n",
    "             [1, 2],\n",
    "             [3, 4],\n",
    "             [5, 6],\n",
    "             ])\n",
    "print(\"D : \\n\", D)\n",
    "\n",
    "# transpose 1 \n",
    "print(\"D.T : \\n\", D.T)\n",
    "\n",
    "# transpose 2 \n",
    "print(\"np.transpose(D) : \\n\", np.transpose(D))"
   ]
  },
  {
   "cell_type": "markdown",
   "id": "86c8f496",
   "metadata": {},
   "source": [
    "## 11.3 Inverse"
   ]
  },
  {
   "cell_type": "code",
   "execution_count": 8,
   "id": "2cc9993d",
   "metadata": {},
   "outputs": [
    {
     "name": "stdout",
     "output_type": "stream",
     "text": [
      "D : \n",
      " [[1 2]\n",
      " [3 4]]\n",
      "\n",
      "D_inv : \n",
      " [[-2.   1. ]\n",
      " [ 1.5 -0.5]]\n",
      "\n",
      "D dot D_inv = Identity : \n",
      " [[1.00000000e+00 1.11022302e-16]\n",
      " [0.00000000e+00 1.00000000e+00]]\n"
     ]
    }
   ],
   "source": [
    "# 2 x 2\n",
    "D = np.array([\n",
    "             [1, 2],\n",
    "             [3, 4],\n",
    "             ])\n",
    "print(\"D : \\n\", D)\n",
    "\n",
    "D_inv = np.linalg.inv(D)\n",
    "print(\"\\nD_inv : \\n\", D_inv)\n",
    "\n",
    "print(\"\\nD dot D_inv = Identity : \\n\", np.dot(D, D_inv))"
   ]
  },
  {
   "cell_type": "markdown",
   "id": "8a31e794",
   "metadata": {},
   "source": [
    "## 11.4 Trace"
   ]
  },
  {
   "cell_type": "code",
   "execution_count": 9,
   "id": "e4edfa50",
   "metadata": {},
   "outputs": [
    {
     "name": "stdout",
     "output_type": "stream",
     "text": [
      "D : \n",
      " [[1 2 3]\n",
      " [4 5 6]\n",
      " [7 8 9]]\n",
      "\n",
      "D_trace : \n",
      " 15\n"
     ]
    }
   ],
   "source": [
    "# 3 x 3\n",
    "D = np.array([\n",
    "             [1, 2, 3],\n",
    "             [4, 5, 6],\n",
    "             [7, 8, 9],\n",
    "             ])\n",
    "print(\"D : \\n\", D)\n",
    "\n",
    "D_trace = np.trace(D)\n",
    "print(\"\\nD_trace : \\n\", D_trace)\n",
    "\n"
   ]
  },
  {
   "cell_type": "markdown",
   "id": "3b62f5fa",
   "metadata": {},
   "source": [
    "## 11.5 Determinant"
   ]
  },
  {
   "cell_type": "code",
   "execution_count": 12,
   "id": "16ceada5",
   "metadata": {},
   "outputs": [
    {
     "name": "stdout",
     "output_type": "stream",
     "text": [
      "D : \n",
      " [[1 2 3]\n",
      " [4 5 6]\n",
      " [7 8 9]]\n",
      "\n",
      "D_determinant : \n",
      " -9.51619735392994e-16\n"
     ]
    }
   ],
   "source": [
    "# 3 x 3\n",
    "D = np.array([\n",
    "             [1, 2, 3],\n",
    "             [4, 5, 6],\n",
    "             [7, 8, 9],\n",
    "             ])\n",
    "print(\"D : \\n\", D)\n",
    "\n",
    "D_determinat = np.linalg.det(D)\n",
    "print(\"\\nD_determinant : \\n\", D_determinat)"
   ]
  },
  {
   "cell_type": "markdown",
   "id": "7a425678",
   "metadata": {},
   "source": [
    "## 11.6 Rank"
   ]
  },
  {
   "cell_type": "code",
   "execution_count": 20,
   "id": "6c662dd8",
   "metadata": {},
   "outputs": [
    {
     "name": "stdout",
     "output_type": "stream",
     "text": [
      "d1 :  [1 2 3]\n",
      "dr1 :  1\n",
      "\n",
      "d2 :  [0 0 0 0 0]\n",
      "dr2 :  0\n",
      "\n",
      "d3 :  [8 0 0 0 0]\n",
      "dr3 :  1\n",
      "\n",
      "4 :  [[8]\n",
      " [0]\n",
      " [0]\n",
      " [0]\n",
      " [0]]\n",
      "dr4 :  1\n",
      "\n",
      "5 :  [[8 0]\n",
      " [0 0]\n",
      " [0 0]\n",
      " [0 0]\n",
      " [0 0]]\n",
      "dr5 :  1\n"
     ]
    }
   ],
   "source": [
    "# 1 x 3 rank\n",
    "d1 = np.array([1, 2, 3])\n",
    "print(\"d1 : \", d1)\n",
    "\n",
    "dr1 = np.linalg.matrix_rank(d1)\n",
    "print(\"dr1 : \", dr1)\n",
    "\n",
    "# 1 x 5 0 rank \n",
    "d2 = np.array([0, 0, 0, 0, 0])\n",
    "print(\"\\nd2 : \", d2)\n",
    "\n",
    "dr2 = np.linalg.matrix_rank(d2)\n",
    "print(\"dr2 : \", dr2)\n",
    "\n",
    "# more ex\n",
    "d3 = np.array([8, 0, 0, 0, 0])\n",
    "print(\"\\nd3 : \", d3)\n",
    "\n",
    "dr3 = np.linalg.matrix_rank(d3)\n",
    "print(\"dr3 : \", dr3)\n",
    "\n",
    "## 5 x 1\n",
    "d4 = np.array([\n",
    "              [8], \n",
    "              [0], \n",
    "              [0], \n",
    "              [0], \n",
    "              [0]\n",
    "              ])\n",
    "\n",
    "print(\"\\n4 : \", d4)\n",
    "\n",
    "dr4 = np.linalg.matrix_rank(d4)\n",
    "print(\"dr4 : \", dr4)\n",
    "\n",
    "\n",
    "## 5 x 2\n",
    "d5 = np.array([\n",
    "              [8, 0], \n",
    "              [0, 0], \n",
    "              [0, 0], \n",
    "              [0, 0], \n",
    "              [0, 0]\n",
    "              ])\n",
    "\n",
    "print(\"\\n5 : \", d5)\n",
    "\n",
    "dr5 = np.linalg.matrix_rank(d5)\n",
    "print(\"dr5 : \", dr5)"
   ]
  },
  {
   "cell_type": "code",
   "execution_count": null,
   "id": "a5bf2f36",
   "metadata": {},
   "outputs": [],
   "source": []
  }
 ],
 "metadata": {
  "kernelspec": {
   "display_name": "Python 3",
   "language": "python",
   "name": "python3"
  },
  "language_info": {
   "codemirror_mode": {
    "name": "ipython",
    "version": 3
   },
   "file_extension": ".py",
   "mimetype": "text/x-python",
   "name": "python",
   "nbconvert_exporter": "python",
   "pygments_lexer": "ipython3",
   "version": "3.7.5"
  }
 },
 "nbformat": 4,
 "nbformat_minor": 5
}
