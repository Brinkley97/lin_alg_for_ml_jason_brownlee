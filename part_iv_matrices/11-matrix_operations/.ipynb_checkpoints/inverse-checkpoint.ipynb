{
 "cells": [
  {
   "cell_type": "code",
   "execution_count": 1,
   "id": "eb54e2a6",
   "metadata": {},
   "outputs": [],
   "source": [
    "import numpy as np"
   ]
  },
  {
   "cell_type": "markdown",
   "id": "dae22f8a",
   "metadata": {},
   "source": [
    "## Det(A)\n"
   ]
  },
  {
   "cell_type": "code",
   "execution_count": 2,
   "id": "66675656",
   "metadata": {},
   "outputs": [
    {
     "name": "stdout",
     "output_type": "stream",
     "text": [
      "det_A : \n",
      " -1.0\n"
     ]
    }
   ],
   "source": [
    "A = np.array([\n",
    "             [1, 0, 1],\n",
    "             [0, 1, 1],\n",
    "             [1, 1, 1]\n",
    "             ])\n",
    "det_A = np.linalg.det(A)\n",
    "print(\"det_A : \\n\", det_A)"
   ]
  },
  {
   "cell_type": "code",
   "execution_count": null,
   "id": "ba3871af",
   "metadata": {},
   "outputs": [],
   "source": []
  },
  {
   "cell_type": "code",
   "execution_count": null,
   "id": "10f41530",
   "metadata": {},
   "outputs": [],
   "source": [
    "det_A = np.linalg.det(A)\n",
    "print(\"det_A : \\n\", det_A)"
   ]
  }
 ],
 "metadata": {
  "kernelspec": {
   "display_name": "Python 3 (ipykernel)",
   "language": "python",
   "name": "python3"
  },
  "language_info": {
   "codemirror_mode": {
    "name": "ipython",
    "version": 3
   },
   "file_extension": ".py",
   "mimetype": "text/x-python",
   "name": "python",
   "nbconvert_exporter": "python",
   "pygments_lexer": "ipython3",
   "version": "3.9.7"
  }
 },
 "nbformat": 4,
 "nbformat_minor": 5
}
