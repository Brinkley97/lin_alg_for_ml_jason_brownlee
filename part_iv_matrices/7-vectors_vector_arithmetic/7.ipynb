{
 "cells": [
  {
   "cell_type": "markdown",
   "id": "01c9471a",
   "metadata": {},
   "source": [
    "# Material\n",
    "\n",
    "## 7.2 What is a Vector\n",
    "\n",
    "## 7.3 Defining a Vector\n",
    "\n",
    "## 7.4 Vector Arithmetic\n",
    "1. 7.4.1 Vector Addition\n",
    "2. 7.4.2 Vector Subtraction\n",
    "3. 7.4.3 Vector Multiplication\n",
    "4. 7.4.4 Vector Division\n",
    "\n",
    "## 7.5 Vector Dot Product\n",
    "\n",
    "## 7.6 Vector-Scalar Multiplication"
   ]
  },
  {
   "cell_type": "code",
   "execution_count": 2,
   "id": "5d3ca6c7",
   "metadata": {},
   "outputs": [],
   "source": [
    "import numpy as np"
   ]
  },
  {
   "cell_type": "markdown",
   "id": "cbebc9e8",
   "metadata": {},
   "source": [
    "## 7.2 What is a Vector\n",
    "1. A tuple of 1 or more values called scalars\n",
    "2. Rep in lowercase : (row & column form) v = (v1, v2, v3)\n",
    "3. Common to rep the targert value as a vec w/ lowercase y\n",
    "4. Vec as geometric interpretation : \n",
    "  1. vec reps a point or coordinate in an n-dim space\n",
    "  2. where n is #dims\n",
    "  3. comes w/ dir & magnitude"
   ]
  },
  {
   "cell_type": "markdown",
   "id": "6e6ac2d5",
   "metadata": {},
   "source": [
    "## 7.3 Defining a Vector\n",
    "1. Rep as np arr"
   ]
  },
  {
   "cell_type": "code",
   "execution_count": 2,
   "id": "87793034",
   "metadata": {},
   "outputs": [
    {
     "name": "stdout",
     "output_type": "stream",
     "text": [
      "v :  [1 2 3]\n"
     ]
    }
   ],
   "source": [
    "v = np.array([1, 2, 3])\n",
    "print(\"v : \", v)"
   ]
  },
  {
   "cell_type": "markdown",
   "id": "14c71ebd",
   "metadata": {},
   "source": [
    "## 7.4 Vector Arithmetic\n",
    "1. All operations are element-wise between 2 vecs of = len \n",
    "    1. element-wise (also known as e-w product (prd), Hadamard (prd), entrywise (prd), Schur (prd)) [[wiki](https://en.wikipedia.org/wiki/Hadamard_product_(matrices)#:~:text=In%20mathematics%2C%20the%20Hadamard%20product,elements%20i%2C%20j%20of%20the)]\n",
    "        - Two matricies (M)s --> One matrix via some operation\n",
    "        - All 3 (M)s are the same size\n",
    "        - Original 2 (M)s index at i, j\n",
    "        - New (M) at i, j are the outcome of the operation\n",
    "    2. Same len : c = a13 + b13, where \n",
    "        - a13 & b13 : 1 x 3\n",
    "\n",
    "1. Return new vec of same len\n",
    "    1. New vec will have same len as those being added so c is 1 x 3"
   ]
  },
  {
   "cell_type": "markdown",
   "id": "e9c595b4",
   "metadata": {},
   "source": [
    "### 7.4.1 Vector Addition\n",
    "1. c[0] = a13[0] + b13[0]\n",
    "2. c[1] = a13[1] + b13[1]\n",
    "3. c[2] = a13[2] + b13[2]"
   ]
  },
  {
   "cell_type": "code",
   "execution_count": 3,
   "id": "d9277740",
   "metadata": {},
   "outputs": [
    {
     "name": "stdout",
     "output_type": "stream",
     "text": [
      "c :  [5 7 9]\n"
     ]
    },
    {
     "ename": "ValueError",
     "evalue": "operands could not be broadcast together with shapes (4,) (3,) ",
     "output_type": "error",
     "traceback": [
      "\u001b[0;31m---------------------------------------------------------------------------\u001b[0m",
      "\u001b[0;31mValueError\u001b[0m                                Traceback (most recent call last)",
      "\u001b[0;32m<ipython-input-3-eb995189146a>\u001b[0m in \u001b[0;36m<module>\u001b[0;34m\u001b[0m\n\u001b[1;32m      9\u001b[0m \u001b[0mb13\u001b[0m \u001b[0;34m=\u001b[0m \u001b[0mnp\u001b[0m\u001b[0;34m.\u001b[0m\u001b[0marray\u001b[0m\u001b[0;34m(\u001b[0m\u001b[0;34m[\u001b[0m\u001b[0;36m4\u001b[0m\u001b[0;34m,\u001b[0m \u001b[0;36m5\u001b[0m\u001b[0;34m,\u001b[0m \u001b[0;36m6\u001b[0m\u001b[0;34m]\u001b[0m\u001b[0;34m)\u001b[0m\u001b[0;34m\u001b[0m\u001b[0;34m\u001b[0m\u001b[0m\n\u001b[1;32m     10\u001b[0m \u001b[0;34m\u001b[0m\u001b[0m\n\u001b[0;32m---> 11\u001b[0;31m \u001b[0mc\u001b[0m \u001b[0;34m=\u001b[0m \u001b[0ma14\u001b[0m \u001b[0;34m+\u001b[0m \u001b[0mb13\u001b[0m\u001b[0;34m\u001b[0m\u001b[0;34m\u001b[0m\u001b[0m\n\u001b[0m\u001b[1;32m     12\u001b[0m \u001b[0mprint\u001b[0m\u001b[0;34m(\u001b[0m\u001b[0;34m\"c : \"\u001b[0m\u001b[0;34m,\u001b[0m \u001b[0mc\u001b[0m\u001b[0;34m)\u001b[0m\u001b[0;34m\u001b[0m\u001b[0;34m\u001b[0m\u001b[0m\n",
      "\u001b[0;31mValueError\u001b[0m: operands could not be broadcast together with shapes (4,) (3,) "
     ]
    }
   ],
   "source": [
    "a13 = np.array([1, 2, 3])\n",
    "b13 = np.array([4, 5, 6])\n",
    "\n",
    "c = a13 + b13\n",
    "print(\"c : \", c)\n",
    "\n",
    "# don't work bc diff sizes\n",
    "a14 = np.array([1, 2, 3, 5])\n",
    "b13 = np.array([4, 5, 6])\n",
    "\n",
    "c = a14 + b13\n",
    "print(\"c : \", c)"
   ]
  },
  {
   "cell_type": "markdown",
   "id": "b8a6fd78",
   "metadata": {},
   "source": [
    "### 7.4.2 Vector Subtraction\n",
    "1. c[0] = a13[0] - b13[0]\n",
    "2. c[1] = a13[1] - b13[1]\n",
    "3. c[2] = a13[2] - b13[2]"
   ]
  },
  {
   "cell_type": "code",
   "execution_count": 4,
   "id": "2c29cf47",
   "metadata": {},
   "outputs": [
    {
     "name": "stdout",
     "output_type": "stream",
     "text": [
      "c :  [-3 -3 -3]\n"
     ]
    },
    {
     "ename": "ValueError",
     "evalue": "operands could not be broadcast together with shapes (3,) (4,) ",
     "output_type": "error",
     "traceback": [
      "\u001b[0;31m---------------------------------------------------------------------------\u001b[0m",
      "\u001b[0;31mValueError\u001b[0m                                Traceback (most recent call last)",
      "\u001b[0;32m<ipython-input-4-60b2a5aeeae7>\u001b[0m in \u001b[0;36m<module>\u001b[0;34m\u001b[0m\n\u001b[1;32m      9\u001b[0m \u001b[0mb14\u001b[0m \u001b[0;34m=\u001b[0m \u001b[0mnp\u001b[0m\u001b[0;34m.\u001b[0m\u001b[0marray\u001b[0m\u001b[0;34m(\u001b[0m\u001b[0;34m[\u001b[0m\u001b[0;36m4\u001b[0m\u001b[0;34m,\u001b[0m \u001b[0;36m5\u001b[0m\u001b[0;34m,\u001b[0m \u001b[0;36m6\u001b[0m\u001b[0;34m,\u001b[0m \u001b[0;36m7\u001b[0m\u001b[0;34m]\u001b[0m\u001b[0;34m)\u001b[0m\u001b[0;34m\u001b[0m\u001b[0;34m\u001b[0m\u001b[0m\n\u001b[1;32m     10\u001b[0m \u001b[0;34m\u001b[0m\u001b[0m\n\u001b[0;32m---> 11\u001b[0;31m \u001b[0mc\u001b[0m \u001b[0;34m=\u001b[0m \u001b[0ma13\u001b[0m \u001b[0;34m-\u001b[0m \u001b[0mb14\u001b[0m\u001b[0;34m\u001b[0m\u001b[0;34m\u001b[0m\u001b[0m\n\u001b[0m\u001b[1;32m     12\u001b[0m \u001b[0mprint\u001b[0m\u001b[0;34m(\u001b[0m\u001b[0;34m\"c : \"\u001b[0m\u001b[0;34m,\u001b[0m \u001b[0mc\u001b[0m\u001b[0;34m)\u001b[0m\u001b[0;34m\u001b[0m\u001b[0;34m\u001b[0m\u001b[0m\n",
      "\u001b[0;31mValueError\u001b[0m: operands could not be broadcast together with shapes (3,) (4,) "
     ]
    }
   ],
   "source": [
    "a13 = np.array([1, 2, 3])\n",
    "b13 = np.array([4, 5, 6])\n",
    "\n",
    "c = a13 - b13\n",
    "print(\"c : \", c)\n",
    "\n",
    "# don't work bc diff sizes\n",
    "a13 = np.array([1, 2, 3])\n",
    "b14 = np.array([4, 5, 6, 7])\n",
    "\n",
    "c = a13 - b14\n",
    "print(\"c : \", c)"
   ]
  },
  {
   "cell_type": "markdown",
   "id": "f784db12",
   "metadata": {},
   "source": [
    "### 7.4.3 Vector Multiplication\n",
    "1. c[0] = a13[0] * b13[0]\n",
    "2. c[1] = a13[1] * b13[1]\n",
    "3. c[2] = a13[2] * b13[2]"
   ]
  },
  {
   "cell_type": "code",
   "execution_count": 10,
   "id": "cf447447",
   "metadata": {},
   "outputs": [
    {
     "name": "stdout",
     "output_type": "stream",
     "text": [
      "c :  [ 4 10 18]\n"
     ]
    }
   ],
   "source": [
    "a13 = np.array([1, 2, 3])\n",
    "b13 = np.array([4, 5, 6])\n",
    "\n",
    "c = a13 * b13\n",
    "print(\"c : \", c)"
   ]
  },
  {
   "cell_type": "markdown",
   "id": "25b6e6df",
   "metadata": {},
   "source": [
    "### 7.4.4 Vector Division\n",
    "1. c[0] = a13[0] / b13[0]\n",
    "2. c[1] = a13[1] / b13[1]\n",
    "3. c[2] = a13[2] / b13[2]"
   ]
  },
  {
   "cell_type": "code",
   "execution_count": 49,
   "id": "f4881036",
   "metadata": {},
   "outputs": [
    {
     "name": "stdout",
     "output_type": "stream",
     "text": [
      "c :  [1. 1. 1.]\n"
     ]
    }
   ],
   "source": [
    "a13 = np.array([1, 2, 3])\n",
    "b13 = np.array([1, 2, 3])\n",
    "\n",
    "c = a13 / b13\n",
    "print(\"c : \", c)"
   ]
  },
  {
   "cell_type": "markdown",
   "id": "a311644a",
   "metadata": {},
   "source": [
    "## 7.5 Vector Dot Product\n",
    "1. Calcs the sum of the multiplied elements\n",
    "2. Same len\n",
    "3. Returns a scalar\n",
    "4. Can calc vec [insert meaning of each]\n",
    "    1. projections\n",
    "    2. decompositions \n",
    "    3. orthogonality\n",
    "5. Name comes from the dot symbol (here, I'll use the period \".\")\n",
    "6. c = a13[0] . b13[0] + a13[1] . b13[1] + a13[2] . b13[2]"
   ]
  },
  {
   "cell_type": "code",
   "execution_count": 43,
   "id": "872cd56c",
   "metadata": {},
   "outputs": [
    {
     "name": "stdout",
     "output_type": "stream",
     "text": [
      "c :  14\n"
     ]
    }
   ],
   "source": [
    "a13 = np.array([1, 2, 3])\n",
    "b13 = np.array([1, 2, 3])\n",
    "\n",
    "c = np.dot(a13, b13)\n",
    "print(\"c : \", c)"
   ]
  },
  {
   "cell_type": "markdown",
   "id": "2417228b",
   "metadata": {},
   "source": [
    "## My code for the Dot Product"
   ]
  },
  {
   "cell_type": "code",
   "execution_count": 7,
   "id": "7d6be05e",
   "metadata": {},
   "outputs": [
    {
     "name": "stdout",
     "output_type": "stream",
     "text": [
      "c :  14\n"
     ]
    }
   ],
   "source": [
    "a13 = np.array([1, 2, 3])\n",
    "b13 = np.array([1, 2, 3])\n",
    "\n",
    "# new arr to store new values\n",
    "c = []\n",
    "\n",
    "# loop len of full arr & store each index as dp\n",
    "for dp in range(len(a13)) :\n",
    "    \n",
    "#     get element of each arr & mult them\n",
    "    dot = a13[dp] * b13[dp]\n",
    "    \n",
    "#     take output & add to c list\n",
    "    c.append(dot)\n",
    "\n",
    "# total up elements in c list\n",
    "c = np.sum(c)\n",
    "\n",
    "print(\"c : \", c)"
   ]
  },
  {
   "cell_type": "markdown",
   "id": "15f51ef2",
   "metadata": {},
   "source": [
    "## 7.6 Vector-Scalar Multiplication\n",
    "1. Scaling the magnitude of the vec by some #\n",
    "2. Returns of same len\n",
    "3. c[0] = a13[0] * s\n",
    "4. c[1] = a13[1] * s\n",
    "5. c[2] = a13[2] * s"
   ]
  },
  {
   "cell_type": "code",
   "execution_count": 54,
   "id": "557f8622",
   "metadata": {},
   "outputs": [
    {
     "name": "stdout",
     "output_type": "stream",
     "text": [
      "c :  [2 4 6]\n"
     ]
    }
   ],
   "source": [
    "a13 = np.array([1, 2, 3])\n",
    "s = 2\n",
    "\n",
    "c = a13 * s\n",
    "print(\"c : \", c)"
   ]
  },
  {
   "cell_type": "code",
   "execution_count": null,
   "id": "c76a8e7d",
   "metadata": {},
   "outputs": [],
   "source": []
  }
 ],
 "metadata": {
  "kernelspec": {
   "display_name": "Python 3",
   "language": "python",
   "name": "python3"
  },
  "language_info": {
   "codemirror_mode": {
    "name": "ipython",
    "version": 3
   },
   "file_extension": ".py",
   "mimetype": "text/x-python",
   "name": "python",
   "nbconvert_exporter": "python",
   "pygments_lexer": "ipython3",
   "version": "3.7.5"
  }
 },
 "nbformat": 4,
 "nbformat_minor": 5
}
