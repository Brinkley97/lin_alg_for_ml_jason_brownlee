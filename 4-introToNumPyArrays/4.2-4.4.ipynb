{
 "cells": [
  {
   "cell_type": "markdown",
   "id": "7e1c90d1",
   "metadata": {},
   "source": [
    "# Material \n",
    "\n",
    "## 4.2 NumPy N-dimensional Array\n",
    "\n",
    "1. create array\n",
    "2. display shape\n",
    "3. display data type\n",
    "\n",
    "## 4.3 Functions to Create Arrays\n",
    "\n",
    "1. 4.3.1 Empty\n",
    "2. 4.3.2 Zeros\n",
    "3. 4.3.3 Ones\n",
    "\n",
    "## 4.4 Combining Arrays\n",
    "\n",
    "1. 4.4.1 Vertical Stack\n",
    "2. 4.4.2 Horizontal Stack"
   ]
  },
  {
   "cell_type": "markdown",
   "id": "d6e4bf35",
   "metadata": {},
   "source": [
    "############# Break #############"
   ]
  },
  {
   "cell_type": "markdown",
   "id": "357a8865",
   "metadata": {},
   "source": [
    "## 4.2 NumPy N-dimensional Array\n",
    "- NumPy is a Python library\n",
    "- Used for scientific & numericals applications\n",
    "- Also for linear algebra operations\n",
    "- Main data structure : ndarray (N-dimensional) array w/ data referred to as an array\n",
    "    - fixed-sized array\n",
    "    - same data types : all floats or all ints\n",
    "\n",
    "\n",
    "### create array\n",
    "### display shape\n",
    "### display data type"
   ]
  },
  {
   "cell_type": "code",
   "execution_count": 19,
   "id": "ca129f92",
   "metadata": {},
   "outputs": [],
   "source": [
    "# import numpy libray\n",
    "import numpy as np"
   ]
  },
  {
   "cell_type": "code",
   "execution_count": 20,
   "id": "bfb04df9",
   "metadata": {},
   "outputs": [
    {
     "name": "stdout",
     "output_type": "stream",
     "text": [
      "py_list :  [1.0, 2.0, 3.0]\n",
      "np_arr :  [1. 2. 3.]\n"
     ]
    }
   ],
   "source": [
    "## create array ##\n",
    "\n",
    "# list in python\n",
    "py_list = [1.0, 2.0, 3.0]\n",
    "print(\"py_list : \", py_list)\n",
    "\n",
    "# convert list to numpy array w/ array() func\n",
    "np_arr = np.array(py_list)\n",
    "print(\"np_arr : \", np_arr)"
   ]
  },
  {
   "cell_type": "code",
   "execution_count": 21,
   "id": "c677a3bd",
   "metadata": {},
   "outputs": [
    {
     "name": "stdout",
     "output_type": "stream",
     "text": [
      "shape of py_list :  3\n",
      "shape of np_arr :  (3,)\n"
     ]
    }
   ],
   "source": [
    "## get shapes ##\n",
    "\n",
    "# can't use .shape on python list\n",
    "# print(\"shape of py_list : \", py_list.shape)\n",
    "\n",
    "# get shape w/ len() func\n",
    "print(\"shape of py_list : \", len(py_list))\n",
    "\n",
    "# only can use .shape on np array; returns a tuple describing the length of each dimension (row, column)\n",
    "print(\"shape of np_arr : \", np_arr.shape)"
   ]
  },
  {
   "cell_type": "code",
   "execution_count": 58,
   "id": "6435c07d",
   "metadata": {},
   "outputs": [
    {
     "name": "stdout",
     "output_type": "stream",
     "text": [
      "dtype of py_list :  <class 'list'>\n",
      "dtype of np_arr :  float64 ,  <class 'numpy.ndarray'>\n"
     ]
    }
   ],
   "source": [
    "## get data types ##\n",
    "\n",
    "# can't use .dtype on python list\n",
    "# print(\"dtype of py_list : \", py_list.dtype)\n",
    "\n",
    "# get dtype w/ type() method\n",
    "print(\"dtype of py_list : \", type(py_list))\n",
    "\n",
    "# only can use .dtype on np array\n",
    "print(\"dtype of np_arr : \", np_arr.dtype, \", \", type(np_arr))"
   ]
  },
  {
   "cell_type": "markdown",
   "id": "998cf87b",
   "metadata": {},
   "source": [
    "## 4.3 Functions to Create Arrays\n",
    "- More convient funcs for creating fixed-sized arrays\n",
    "\n",
    "### 4.3.1 Empty\n",
    "- np.empty() func must specify shape\n",
    "- values : randomized & need to be assigned before use\n",
    "\n",
    "### 4.3.2 Zeros\n",
    "- np.zeros() func must specify shape\n",
    "- values : all 0s\n",
    "\n",
    "### 4.3.3 Ones\n",
    "- np.ones() func must specify shape\n",
    "- values : all 1s"
   ]
  },
  {
   "cell_type": "code",
   "execution_count": 40,
   "id": "9b6b1867",
   "metadata": {},
   "outputs": [
    {
     "name": "stdout",
     "output_type": "stream",
     "text": [
      "empt_arr :  [[6.94320340e-310 6.94316363e-310]\n",
      " [6.94316363e-310 6.94316363e-310]]\n"
     ]
    }
   ],
   "source": [
    "# create 2 x 2 empty np array\n",
    "empt_arr = np.empty([2, 2])\n",
    "print(\"empt_arr : \", empt_arr)"
   ]
  },
  {
   "cell_type": "code",
   "execution_count": 41,
   "id": "1ae32f40",
   "metadata": {},
   "outputs": [
    {
     "name": "stdout",
     "output_type": "stream",
     "text": [
      "ze_arr :  [[0. 0. 0. 0. 0. 0. 0. 0. 0.]\n",
      " [0. 0. 0. 0. 0. 0. 0. 0. 0.]]\n"
     ]
    }
   ],
   "source": [
    "# create 2 x 9 zeros np array\n",
    "ze_arr = np.zeros([2, 9])\n",
    "print(\"ze_arr : \", ze_arr)"
   ]
  },
  {
   "cell_type": "code",
   "execution_count": 43,
   "id": "30e27835",
   "metadata": {},
   "outputs": [
    {
     "name": "stdout",
     "output_type": "stream",
     "text": [
      "ones_arr :  [[1. 1.]\n",
      " [1. 1.]\n",
      " [1. 1.]\n",
      " [1. 1.]]\n",
      "ones_arr :  [1. 1. 1. 1. 1.]\n"
     ]
    }
   ],
   "source": [
    "# create 4 x 2 ones np array\n",
    "ones_arr = np.ones([4, 2])\n",
    "print(\"ones_arr : \", ones_arr)\n",
    "\n",
    "# create 5 x 1 ones np array\n",
    "ones_arr = np.ones([5])\n",
    "print(\"ones_arr : \", ones_arr)"
   ]
  },
  {
   "cell_type": "markdown",
   "id": "b57ecdb7",
   "metadata": {},
   "source": [
    "## 4.4 Combining Arrays\n",
    "\n",
    "### 4.4.1 Vertical Stack\n",
    "- Must have at least 2 np arrays\n",
    "- np.vstack() func\n",
    "\n",
    "### 4.4.2 Horizontal Stack\n",
    "- Must have at least 2 np arrays\n",
    "- np.hstack() func"
   ]
  },
  {
   "cell_type": "code",
   "execution_count": 53,
   "id": "ce9b9695",
   "metadata": {},
   "outputs": [
    {
     "name": "stdout",
     "output_type": "stream",
     "text": [
      "first :  [1 2 3]\n",
      "second :  [ 8  9 10]\n",
      "\n",
      "stack_em :  [[ 1  2  3]\n",
      " [ 8  9 10]] \n",
      "stack_em shape :  (2, 3)\n"
     ]
    }
   ],
   "source": [
    "# 1st 1-D np array of size 3 x 1\n",
    "first = np.array([1, 2, 3])\n",
    "print(\"first : \", first)\n",
    "\n",
    "# 2nd 1-D np array of size 3 x 1\n",
    "second = np.array([8, 9, 10])\n",
    "print(\"second : \", second)\n",
    "\n",
    "# stack\n",
    "v_stack_em = np.vstack((first, second))\n",
    "print(\"\\nv_stack_em : \", v_stack_em, \"\\nv_stack_em shape : \",  v_stack_em.shape)"
   ]
  },
  {
   "cell_type": "code",
   "execution_count": 55,
   "id": "0fad2e17",
   "metadata": {},
   "outputs": [
    {
     "name": "stdout",
     "output_type": "stream",
     "text": [
      "first :  [1 2 3]\n",
      "second :  [ 8  9 10]\n",
      "\n",
      "h_stack_em :  [ 1  2  3  8  9 10] \n",
      "h_stack_em shape :  (6,)\n"
     ]
    }
   ],
   "source": [
    "# 1st 1-D np array of size 3 x 1\n",
    "first = np.array([1, 2, 3])\n",
    "print(\"first : \", first)\n",
    "\n",
    "# 2nd 1-D np array of size 3 x 1\n",
    "second = np.array([8, 9, 10])\n",
    "print(\"second : \", second)\n",
    "\n",
    "# stack\n",
    "h_stack_em = np.hstack((first, second))\n",
    "print(\"\\nh_stack_em : \", h_stack_em, \"\\nh_stack_em shape : \",  h_stack_em.shape)"
   ]
  },
  {
   "cell_type": "code",
   "execution_count": null,
   "id": "7e82db6e",
   "metadata": {},
   "outputs": [],
   "source": []
  }
 ],
 "metadata": {
  "kernelspec": {
   "display_name": "Python 3",
   "language": "python",
   "name": "python3"
  },
  "language_info": {
   "codemirror_mode": {
    "name": "ipython",
    "version": 3
   },
   "file_extension": ".py",
   "mimetype": "text/x-python",
   "name": "python",
   "nbconvert_exporter": "python",
   "pygments_lexer": "ipython3",
   "version": "3.7.5"
  }
 },
 "nbformat": 4,
 "nbformat_minor": 5
}
